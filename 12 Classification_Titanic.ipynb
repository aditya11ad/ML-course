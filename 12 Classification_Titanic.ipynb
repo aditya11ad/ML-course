{
 "cells": [
  {
   "cell_type": "code",
   "execution_count": 18,
   "metadata": {},
   "outputs": [],
   "source": [
    "import pandas as pd"
   ]
  },
  {
   "cell_type": "code",
   "execution_count": 19,
   "metadata": {},
   "outputs": [
    {
     "name": "stdout",
     "output_type": "stream",
     "text": [
      "(891, 12)\n"
     ]
    },
    {
     "data": {
      "text/html": [
       "<div>\n",
       "<style scoped>\n",
       "    .dataframe tbody tr th:only-of-type {\n",
       "        vertical-align: middle;\n",
       "    }\n",
       "\n",
       "    .dataframe tbody tr th {\n",
       "        vertical-align: top;\n",
       "    }\n",
       "\n",
       "    .dataframe thead th {\n",
       "        text-align: right;\n",
       "    }\n",
       "</style>\n",
       "<table border=\"1\" class=\"dataframe\">\n",
       "  <thead>\n",
       "    <tr style=\"text-align: right;\">\n",
       "      <th></th>\n",
       "      <th>PassengerId</th>\n",
       "      <th>Survived</th>\n",
       "      <th>Pclass</th>\n",
       "      <th>Name</th>\n",
       "      <th>Sex</th>\n",
       "      <th>Age</th>\n",
       "      <th>SibSp</th>\n",
       "      <th>Parch</th>\n",
       "      <th>Ticket</th>\n",
       "      <th>Fare</th>\n",
       "      <th>Cabin</th>\n",
       "      <th>Embarked</th>\n",
       "    </tr>\n",
       "  </thead>\n",
       "  <tbody>\n",
       "    <tr>\n",
       "      <th>0</th>\n",
       "      <td>1</td>\n",
       "      <td>0</td>\n",
       "      <td>3</td>\n",
       "      <td>Braund, Mr. Owen Harris</td>\n",
       "      <td>male</td>\n",
       "      <td>22.0</td>\n",
       "      <td>1</td>\n",
       "      <td>0</td>\n",
       "      <td>A/5 21171</td>\n",
       "      <td>7.2500</td>\n",
       "      <td>NaN</td>\n",
       "      <td>S</td>\n",
       "    </tr>\n",
       "    <tr>\n",
       "      <th>1</th>\n",
       "      <td>2</td>\n",
       "      <td>1</td>\n",
       "      <td>1</td>\n",
       "      <td>Cumings, Mrs. John Bradley (Florence Briggs Th...</td>\n",
       "      <td>female</td>\n",
       "      <td>38.0</td>\n",
       "      <td>1</td>\n",
       "      <td>0</td>\n",
       "      <td>PC 17599</td>\n",
       "      <td>71.2833</td>\n",
       "      <td>C85</td>\n",
       "      <td>C</td>\n",
       "    </tr>\n",
       "    <tr>\n",
       "      <th>2</th>\n",
       "      <td>3</td>\n",
       "      <td>1</td>\n",
       "      <td>3</td>\n",
       "      <td>Heikkinen, Miss. Laina</td>\n",
       "      <td>female</td>\n",
       "      <td>26.0</td>\n",
       "      <td>0</td>\n",
       "      <td>0</td>\n",
       "      <td>STON/O2. 3101282</td>\n",
       "      <td>7.9250</td>\n",
       "      <td>NaN</td>\n",
       "      <td>S</td>\n",
       "    </tr>\n",
       "  </tbody>\n",
       "</table>\n",
       "</div>"
      ],
      "text/plain": [
       "   PassengerId  Survived  Pclass  \\\n",
       "0            1         0       3   \n",
       "1            2         1       1   \n",
       "2            3         1       3   \n",
       "\n",
       "                                                Name     Sex   Age  SibSp  \\\n",
       "0                            Braund, Mr. Owen Harris    male  22.0      1   \n",
       "1  Cumings, Mrs. John Bradley (Florence Briggs Th...  female  38.0      1   \n",
       "2                             Heikkinen, Miss. Laina  female  26.0      0   \n",
       "\n",
       "   Parch            Ticket     Fare Cabin Embarked  \n",
       "0      0         A/5 21171   7.2500   NaN        S  \n",
       "1      0          PC 17599  71.2833   C85        C  \n",
       "2      0  STON/O2. 3101282   7.9250   NaN        S  "
      ]
     },
     "execution_count": 19,
     "metadata": {},
     "output_type": "execute_result"
    }
   ],
   "source": [
    "df_train=pd.read_csv('titanicData.csv')\n",
    "print(df_train.shape)\n",
    "df_train.head(3)"
   ]
  },
  {
   "cell_type": "code",
   "execution_count": 3,
   "metadata": {},
   "outputs": [
    {
     "data": {
      "text/plain": [
       "0    549\n",
       "1    342\n",
       "Name: Survived, dtype: int64"
      ]
     },
     "execution_count": 3,
     "metadata": {},
     "output_type": "execute_result"
    }
   ],
   "source": [
    "df_train.Survived.value_counts()"
   ]
  },
  {
   "cell_type": "code",
   "execution_count": 5,
   "metadata": {},
   "outputs": [
    {
     "data": {
      "text/plain": [
       "male      577\n",
       "female    314\n",
       "Name: Sex, dtype: int64"
      ]
     },
     "execution_count": 5,
     "metadata": {},
     "output_type": "execute_result"
    }
   ],
   "source": [
    "df_train.Sex.value_counts()"
   ]
  },
  {
   "cell_type": "code",
   "execution_count": 6,
   "metadata": {},
   "outputs": [
    {
     "data": {
      "text/plain": [
       "S    644\n",
       "C    168\n",
       "Q     77\n",
       "Name: Embarked, dtype: int64"
      ]
     },
     "execution_count": 6,
     "metadata": {},
     "output_type": "execute_result"
    }
   ],
   "source": [
    "df_train.Embarked.value_counts()\n",
    "# GK:  boarding ponts:       'Southampton', england      'Cherbourg', france          'Queenstown' (cobh), ireland"
   ]
  },
  {
   "cell_type": "code",
   "execution_count": 7,
   "metadata": {},
   "outputs": [
    {
     "data": {
      "text/plain": [
       "PassengerId      0\n",
       "Survived         0\n",
       "Pclass           0\n",
       "Name             0\n",
       "Sex              0\n",
       "Age            177\n",
       "SibSp            0\n",
       "Parch            0\n",
       "Ticket           0\n",
       "Fare             0\n",
       "Cabin          687\n",
       "Embarked         2\n",
       "dtype: int64"
      ]
     },
     "execution_count": 7,
     "metadata": {},
     "output_type": "execute_result"
    }
   ],
   "source": [
    "df_train.isna().sum()"
   ]
  },
  {
   "cell_type": "code",
   "execution_count": 8,
   "metadata": {},
   "outputs": [
    {
     "data": {
      "text/plain": [
       "0      False\n",
       "1      False\n",
       "2      False\n",
       "3      False\n",
       "4      False\n",
       "       ...  \n",
       "886    False\n",
       "887    False\n",
       "888     True\n",
       "889    False\n",
       "890    False\n",
       "Name: Age, Length: 891, dtype: bool"
      ]
     },
     "execution_count": 8,
     "metadata": {},
     "output_type": "execute_result"
    }
   ],
   "source": [
    "pd.isnull(df_train['Age'])"
   ]
  },
  {
   "cell_type": "code",
   "execution_count": 9,
   "metadata": {},
   "outputs": [
    {
     "data": {
      "text/html": [
       "<div>\n",
       "<style scoped>\n",
       "    .dataframe tbody tr th:only-of-type {\n",
       "        vertical-align: middle;\n",
       "    }\n",
       "\n",
       "    .dataframe tbody tr th {\n",
       "        vertical-align: top;\n",
       "    }\n",
       "\n",
       "    .dataframe thead th {\n",
       "        text-align: right;\n",
       "    }\n",
       "</style>\n",
       "<table border=\"1\" class=\"dataframe\">\n",
       "  <thead>\n",
       "    <tr style=\"text-align: right;\">\n",
       "      <th></th>\n",
       "      <th>Survived</th>\n",
       "      <th>Pclass</th>\n",
       "      <th>Sex</th>\n",
       "      <th>Age</th>\n",
       "      <th>SibSp</th>\n",
       "      <th>Parch</th>\n",
       "      <th>Fare</th>\n",
       "      <th>Embarked</th>\n",
       "    </tr>\n",
       "  </thead>\n",
       "  <tbody>\n",
       "    <tr>\n",
       "      <th>0</th>\n",
       "      <td>0</td>\n",
       "      <td>3</td>\n",
       "      <td>male</td>\n",
       "      <td>22.0</td>\n",
       "      <td>1</td>\n",
       "      <td>0</td>\n",
       "      <td>7.2500</td>\n",
       "      <td>S</td>\n",
       "    </tr>\n",
       "    <tr>\n",
       "      <th>1</th>\n",
       "      <td>1</td>\n",
       "      <td>1</td>\n",
       "      <td>female</td>\n",
       "      <td>38.0</td>\n",
       "      <td>1</td>\n",
       "      <td>0</td>\n",
       "      <td>71.2833</td>\n",
       "      <td>C</td>\n",
       "    </tr>\n",
       "    <tr>\n",
       "      <th>2</th>\n",
       "      <td>1</td>\n",
       "      <td>3</td>\n",
       "      <td>female</td>\n",
       "      <td>26.0</td>\n",
       "      <td>0</td>\n",
       "      <td>0</td>\n",
       "      <td>7.9250</td>\n",
       "      <td>S</td>\n",
       "    </tr>\n",
       "  </tbody>\n",
       "</table>\n",
       "</div>"
      ],
      "text/plain": [
       "   Survived  Pclass     Sex   Age  SibSp  Parch     Fare Embarked\n",
       "0         0       3    male  22.0      1      0   7.2500        S\n",
       "1         1       1  female  38.0      1      0  71.2833        C\n",
       "2         1       3  female  26.0      0      0   7.9250        S"
      ]
     },
     "execution_count": 9,
     "metadata": {},
     "output_type": "execute_result"
    }
   ],
   "source": [
    "df_train=df_train.drop(['Cabin','PassengerId','Name','Ticket'],axis=1)\n",
    "df_train.head(3)"
   ]
  },
  {
   "cell_type": "code",
   "execution_count": 10,
   "metadata": {},
   "outputs": [
    {
     "data": {
      "text/plain": [
       "(29.69911764705882, 28.0)"
      ]
     },
     "execution_count": 10,
     "metadata": {},
     "output_type": "execute_result"
    }
   ],
   "source": [
    "df_train['Age'].mean()              ,           df_train['Age'].median()"
   ]
  },
  {
   "cell_type": "code",
   "execution_count": 11,
   "metadata": {},
   "outputs": [
    {
     "data": {
      "text/plain": [
       "Pclass\n",
       "1    38.233441\n",
       "2    29.877630\n",
       "3    25.140620\n",
       "Name: Age, dtype: float64"
      ]
     },
     "execution_count": 11,
     "metadata": {},
     "output_type": "execute_result"
    }
   ],
   "source": [
    "df_train.groupby('Pclass')['Age'].mean()              #this is more precise"
   ]
  },
  {
   "cell_type": "code",
   "execution_count": 13,
   "metadata": {},
   "outputs": [],
   "source": [
    "def age_approx(cols):\n",
    "    age=cols[0]\n",
    "    pclass=cols[1]\n",
    "    if pd.isnull(age):\n",
    "        if pclass==1:\n",
    "            return 38\n",
    "        elif pclass==2:\n",
    "            return 29\n",
    "        else:\n",
    "            return 24\n",
    "    else:\n",
    "        return age"
   ]
  },
  {
   "cell_type": "code",
   "execution_count": 15,
   "metadata": {},
   "outputs": [],
   "source": [
    "df_train['Age']=df_train[['Age','Pclass']].apply(age_approx, axis=1)"
   ]
  },
  {
   "cell_type": "code",
   "execution_count": 16,
   "metadata": {},
   "outputs": [
    {
     "data": {
      "text/plain": [
       "Survived    0\n",
       "Pclass      0\n",
       "Sex         0\n",
       "Age         0\n",
       "SibSp       0\n",
       "Parch       0\n",
       "Fare        0\n",
       "Embarked    2\n",
       "dtype: int64"
      ]
     },
     "execution_count": 16,
     "metadata": {},
     "output_type": "execute_result"
    }
   ],
   "source": [
    "df_train.isna().sum()"
   ]
  },
  {
   "cell_type": "code",
   "execution_count": 17,
   "metadata": {},
   "outputs": [
    {
     "data": {
      "text/plain": [
       "Survived    0\n",
       "Pclass      0\n",
       "Sex         0\n",
       "Age         0\n",
       "SibSp       0\n",
       "Parch       0\n",
       "Fare        0\n",
       "Embarked    0\n",
       "dtype: int64"
      ]
     },
     "execution_count": 17,
     "metadata": {},
     "output_type": "execute_result"
    }
   ],
   "source": [
    "df_train.dropna(inplace=True)\n",
    "df_train.isna().sum()"
   ]
  },
  {
   "cell_type": "code",
   "execution_count": 15,
   "metadata": {},
   "outputs": [
    {
     "data": {
      "text/html": [
       "<div>\n",
       "<style scoped>\n",
       "    .dataframe tbody tr th:only-of-type {\n",
       "        vertical-align: middle;\n",
       "    }\n",
       "\n",
       "    .dataframe tbody tr th {\n",
       "        vertical-align: top;\n",
       "    }\n",
       "\n",
       "    .dataframe thead th {\n",
       "        text-align: right;\n",
       "    }\n",
       "</style>\n",
       "<table border=\"1\" class=\"dataframe\">\n",
       "  <thead>\n",
       "    <tr style=\"text-align: right;\">\n",
       "      <th></th>\n",
       "      <th>Survived</th>\n",
       "      <th>Pclass</th>\n",
       "      <th>Sex</th>\n",
       "      <th>Age</th>\n",
       "      <th>SibSp</th>\n",
       "      <th>Parch</th>\n",
       "      <th>Fare</th>\n",
       "      <th>Embarked</th>\n",
       "    </tr>\n",
       "  </thead>\n",
       "  <tbody>\n",
       "    <tr>\n",
       "      <th>0</th>\n",
       "      <td>0</td>\n",
       "      <td>3</td>\n",
       "      <td>male</td>\n",
       "      <td>22.0</td>\n",
       "      <td>1</td>\n",
       "      <td>0</td>\n",
       "      <td>7.2500</td>\n",
       "      <td>S</td>\n",
       "    </tr>\n",
       "    <tr>\n",
       "      <th>1</th>\n",
       "      <td>1</td>\n",
       "      <td>1</td>\n",
       "      <td>female</td>\n",
       "      <td>38.0</td>\n",
       "      <td>1</td>\n",
       "      <td>0</td>\n",
       "      <td>71.2833</td>\n",
       "      <td>C</td>\n",
       "    </tr>\n",
       "    <tr>\n",
       "      <th>2</th>\n",
       "      <td>1</td>\n",
       "      <td>3</td>\n",
       "      <td>female</td>\n",
       "      <td>26.0</td>\n",
       "      <td>0</td>\n",
       "      <td>0</td>\n",
       "      <td>7.9250</td>\n",
       "      <td>S</td>\n",
       "    </tr>\n",
       "  </tbody>\n",
       "</table>\n",
       "</div>"
      ],
      "text/plain": [
       "   Survived  Pclass     Sex   Age  SibSp  Parch     Fare Embarked\n",
       "0         0       3    male  22.0      1      0   7.2500        S\n",
       "1         1       1  female  38.0      1      0  71.2833        C\n",
       "2         1       3  female  26.0      0      0   7.9250        S"
      ]
     },
     "execution_count": 15,
     "metadata": {},
     "output_type": "execute_result"
    }
   ],
   "source": [
    "df_train.head(3)"
   ]
  },
  {
   "cell_type": "code",
   "execution_count": 16,
   "metadata": {},
   "outputs": [
    {
     "data": {
      "text/html": [
       "<div>\n",
       "<style scoped>\n",
       "    .dataframe tbody tr th:only-of-type {\n",
       "        vertical-align: middle;\n",
       "    }\n",
       "\n",
       "    .dataframe tbody tr th {\n",
       "        vertical-align: top;\n",
       "    }\n",
       "\n",
       "    .dataframe thead th {\n",
       "        text-align: right;\n",
       "    }\n",
       "</style>\n",
       "<table border=\"1\" class=\"dataframe\">\n",
       "  <thead>\n",
       "    <tr style=\"text-align: right;\">\n",
       "      <th></th>\n",
       "      <th>Survived</th>\n",
       "      <th>Pclass</th>\n",
       "      <th>Age</th>\n",
       "      <th>SibSp</th>\n",
       "      <th>Parch</th>\n",
       "      <th>Fare</th>\n",
       "      <th>Sex_female</th>\n",
       "      <th>Sex_male</th>\n",
       "      <th>Embarked_C</th>\n",
       "      <th>Embarked_Q</th>\n",
       "      <th>Embarked_S</th>\n",
       "    </tr>\n",
       "  </thead>\n",
       "  <tbody>\n",
       "    <tr>\n",
       "      <th>0</th>\n",
       "      <td>0</td>\n",
       "      <td>3</td>\n",
       "      <td>22.0</td>\n",
       "      <td>1</td>\n",
       "      <td>0</td>\n",
       "      <td>7.2500</td>\n",
       "      <td>0</td>\n",
       "      <td>1</td>\n",
       "      <td>0</td>\n",
       "      <td>0</td>\n",
       "      <td>1</td>\n",
       "    </tr>\n",
       "    <tr>\n",
       "      <th>1</th>\n",
       "      <td>1</td>\n",
       "      <td>1</td>\n",
       "      <td>38.0</td>\n",
       "      <td>1</td>\n",
       "      <td>0</td>\n",
       "      <td>71.2833</td>\n",
       "      <td>1</td>\n",
       "      <td>0</td>\n",
       "      <td>1</td>\n",
       "      <td>0</td>\n",
       "      <td>0</td>\n",
       "    </tr>\n",
       "    <tr>\n",
       "      <th>2</th>\n",
       "      <td>1</td>\n",
       "      <td>3</td>\n",
       "      <td>26.0</td>\n",
       "      <td>0</td>\n",
       "      <td>0</td>\n",
       "      <td>7.9250</td>\n",
       "      <td>1</td>\n",
       "      <td>0</td>\n",
       "      <td>0</td>\n",
       "      <td>0</td>\n",
       "      <td>1</td>\n",
       "    </tr>\n",
       "    <tr>\n",
       "      <th>3</th>\n",
       "      <td>1</td>\n",
       "      <td>1</td>\n",
       "      <td>35.0</td>\n",
       "      <td>1</td>\n",
       "      <td>0</td>\n",
       "      <td>53.1000</td>\n",
       "      <td>1</td>\n",
       "      <td>0</td>\n",
       "      <td>0</td>\n",
       "      <td>0</td>\n",
       "      <td>1</td>\n",
       "    </tr>\n",
       "    <tr>\n",
       "      <th>4</th>\n",
       "      <td>0</td>\n",
       "      <td>3</td>\n",
       "      <td>35.0</td>\n",
       "      <td>0</td>\n",
       "      <td>0</td>\n",
       "      <td>8.0500</td>\n",
       "      <td>0</td>\n",
       "      <td>1</td>\n",
       "      <td>0</td>\n",
       "      <td>0</td>\n",
       "      <td>1</td>\n",
       "    </tr>\n",
       "    <tr>\n",
       "      <th>...</th>\n",
       "      <td>...</td>\n",
       "      <td>...</td>\n",
       "      <td>...</td>\n",
       "      <td>...</td>\n",
       "      <td>...</td>\n",
       "      <td>...</td>\n",
       "      <td>...</td>\n",
       "      <td>...</td>\n",
       "      <td>...</td>\n",
       "      <td>...</td>\n",
       "      <td>...</td>\n",
       "    </tr>\n",
       "    <tr>\n",
       "      <th>886</th>\n",
       "      <td>0</td>\n",
       "      <td>2</td>\n",
       "      <td>27.0</td>\n",
       "      <td>0</td>\n",
       "      <td>0</td>\n",
       "      <td>13.0000</td>\n",
       "      <td>0</td>\n",
       "      <td>1</td>\n",
       "      <td>0</td>\n",
       "      <td>0</td>\n",
       "      <td>1</td>\n",
       "    </tr>\n",
       "    <tr>\n",
       "      <th>887</th>\n",
       "      <td>1</td>\n",
       "      <td>1</td>\n",
       "      <td>19.0</td>\n",
       "      <td>0</td>\n",
       "      <td>0</td>\n",
       "      <td>30.0000</td>\n",
       "      <td>1</td>\n",
       "      <td>0</td>\n",
       "      <td>0</td>\n",
       "      <td>0</td>\n",
       "      <td>1</td>\n",
       "    </tr>\n",
       "    <tr>\n",
       "      <th>888</th>\n",
       "      <td>0</td>\n",
       "      <td>3</td>\n",
       "      <td>24.0</td>\n",
       "      <td>1</td>\n",
       "      <td>2</td>\n",
       "      <td>23.4500</td>\n",
       "      <td>1</td>\n",
       "      <td>0</td>\n",
       "      <td>0</td>\n",
       "      <td>0</td>\n",
       "      <td>1</td>\n",
       "    </tr>\n",
       "    <tr>\n",
       "      <th>889</th>\n",
       "      <td>1</td>\n",
       "      <td>1</td>\n",
       "      <td>26.0</td>\n",
       "      <td>0</td>\n",
       "      <td>0</td>\n",
       "      <td>30.0000</td>\n",
       "      <td>0</td>\n",
       "      <td>1</td>\n",
       "      <td>1</td>\n",
       "      <td>0</td>\n",
       "      <td>0</td>\n",
       "    </tr>\n",
       "    <tr>\n",
       "      <th>890</th>\n",
       "      <td>0</td>\n",
       "      <td>3</td>\n",
       "      <td>32.0</td>\n",
       "      <td>0</td>\n",
       "      <td>0</td>\n",
       "      <td>7.7500</td>\n",
       "      <td>0</td>\n",
       "      <td>1</td>\n",
       "      <td>0</td>\n",
       "      <td>1</td>\n",
       "      <td>0</td>\n",
       "    </tr>\n",
       "  </tbody>\n",
       "</table>\n",
       "<p>889 rows × 11 columns</p>\n",
       "</div>"
      ],
      "text/plain": [
       "     Survived  Pclass   Age  SibSp  Parch     Fare  Sex_female  Sex_male  \\\n",
       "0           0       3  22.0      1      0   7.2500           0         1   \n",
       "1           1       1  38.0      1      0  71.2833           1         0   \n",
       "2           1       3  26.0      0      0   7.9250           1         0   \n",
       "3           1       1  35.0      1      0  53.1000           1         0   \n",
       "4           0       3  35.0      0      0   8.0500           0         1   \n",
       "..        ...     ...   ...    ...    ...      ...         ...       ...   \n",
       "886         0       2  27.0      0      0  13.0000           0         1   \n",
       "887         1       1  19.0      0      0  30.0000           1         0   \n",
       "888         0       3  24.0      1      2  23.4500           1         0   \n",
       "889         1       1  26.0      0      0  30.0000           0         1   \n",
       "890         0       3  32.0      0      0   7.7500           0         1   \n",
       "\n",
       "     Embarked_C  Embarked_Q  Embarked_S  \n",
       "0             0           0           1  \n",
       "1             1           0           0  \n",
       "2             0           0           1  \n",
       "3             0           0           1  \n",
       "4             0           0           1  \n",
       "..          ...         ...         ...  \n",
       "886           0           0           1  \n",
       "887           0           0           1  \n",
       "888           0           0           1  \n",
       "889           1           0           0  \n",
       "890           0           1           0  \n",
       "\n",
       "[889 rows x 11 columns]"
      ]
     },
     "execution_count": 16,
     "metadata": {},
     "output_type": "execute_result"
    }
   ],
   "source": [
    "#pd.get_dummies(df_train['Sex'])\n",
    "df_train_dummied=pd.get_dummies(df_train,columns=['Sex'])\n",
    "df_train_dummied=pd.get_dummies(df_train_dummied,columns=['Embarked'])\n",
    "\n",
    "df_train_dummied"
   ]
  },
  {
   "cell_type": "code",
   "execution_count": 17,
   "metadata": {},
   "outputs": [],
   "source": [
    "import matplotlib.pyplot as plt"
   ]
  },
  {
   "cell_type": "code",
   "execution_count": 18,
   "metadata": {},
   "outputs": [
    {
     "data": {
      "text/plain": [
       "<AxesSubplot:>"
      ]
     },
     "execution_count": 18,
     "metadata": {},
     "output_type": "execute_result"
    },
    {
     "data": {
      "image/png": "[encoded data removed]",
      "text/plain": [
       "<Figure size 432x288 with 2 Axes>"
      ]
     },
     "metadata": {
      "needs_background": "light"
     },
     "output_type": "display_data"
    }
   ],
   "source": [
    "import seaborn as sns\n",
    "\n",
    "sns.heatmap(df_train_dummied.corr())"
   ]
  },
  {
   "cell_type": "markdown",
   "metadata": {},
   "source": [
    "***"
   ]
  },
  {
   "cell_type": "code",
   "execution_count": 19,
   "metadata": {},
   "outputs": [],
   "source": [
    "X=df_train_dummied[['Pclass', 'Age', 'SibSp', 'Parch', 'Sex_female', 'Sex_male', 'Embarked_C', 'Embarked_Q', 'Embarked_S']].values\n",
    "y=df_train_dummied['Survived']"
   ]
  },
  {
   "cell_type": "code",
   "execution_count": 20,
   "metadata": {},
   "outputs": [],
   "source": [
    "from sklearn.model_selection import train_test_split\n",
    "Xtrain,Xtest,ytrain,ytest=train_test_split(X,y,test_size=.3,random_state=42)"
   ]
  },
  {
   "cell_type": "code",
   "execution_count": 21,
   "metadata": {},
   "outputs": [],
   "source": [
    "from sklearn.linear_model import LogisticRegression "
   ]
  },
  {
   "cell_type": "code",
   "execution_count": 22,
   "metadata": {},
   "outputs": [],
   "source": [
    "logReg=LogisticRegression()"
   ]
  },
  {
   "cell_type": "code",
   "execution_count": 23,
   "metadata": {},
   "outputs": [
    {
     "name": "stderr",
     "output_type": "stream",
     "text": [
      "C:\\Users\\adity\\anaconda3\\lib\\site-packages\\sklearn\\linear_model\\_logistic.py:765: ConvergenceWarning: lbfgs failed to converge (status=1):\n",
      "STOP: TOTAL NO. of ITERATIONS REACHED LIMIT.\n",
      "\n",
      "Increase the number of iterations (max_iter) or scale the data as shown in:\n",
      "    https://scikit-learn.org/stable/modules/preprocessing.html\n",
      "Please also refer to the documentation for alternative solver options:\n",
      "    https://scikit-learn.org/stable/modules/linear_model.html#logistic-regression\n",
      "  extra_warning_msg=_LOGISTIC_SOLVER_CONVERGENCE_MSG)\n"
     ]
    },
    {
     "data": {
      "text/plain": [
       "LogisticRegression()"
      ]
     },
     "execution_count": 23,
     "metadata": {},
     "output_type": "execute_result"
    }
   ],
   "source": [
    "logReg.fit(Xtrain,ytrain)"
   ]
  },
  {
   "cell_type": "code",
   "execution_count": 24,
   "metadata": {},
   "outputs": [],
   "source": [
    "predicted=logReg.predict(Xtest)"
   ]
  },
  {
   "cell_type": "code",
   "execution_count": 130,
   "metadata": {},
   "outputs": [],
   "source": [
    "from sklearn.metrics import confusion_matrix\n",
    "from sklearn.metrics import accuracy_score\n",
    "from sklearn.metrics import classification_report"
   ]
  },
  {
   "cell_type": "code",
   "execution_count": 120,
   "metadata": {},
   "outputs": [
    {
     "data": {
      "text/plain": [
       "array([[138,  29],\n",
       "       [ 25,  75]], dtype=int64)"
      ]
     },
     "execution_count": 120,
     "metadata": {},
     "output_type": "execute_result"
    }
   ],
   "source": [
    "confusion_matrix(ytest,predicted)"
   ]
  },
  {
   "cell_type": "code",
   "execution_count": 122,
   "metadata": {},
   "outputs": [
    {
     "data": {
      "text/plain": [
       "0.797752808988764"
      ]
     },
     "execution_count": 122,
     "metadata": {},
     "output_type": "execute_result"
    }
   ],
   "source": [
    "accuracy_score(ytest,predicted)"
   ]
  },
  {
   "cell_type": "code",
   "execution_count": 127,
   "metadata": {},
   "outputs": [
    {
     "name": "stdout",
     "output_type": "stream",
     "text": [
      "              precision    recall  f1-score   support\n",
      "\n",
      "           0       0.85      0.83      0.84       167\n",
      "           1       0.72      0.75      0.74       100\n",
      "\n",
      "    accuracy                           0.80       267\n",
      "   macro avg       0.78      0.79      0.79       267\n",
      "weighted avg       0.80      0.80      0.80       267\n",
      "\n"
     ]
    }
   ],
   "source": [
    "print(classification_report(ytest,predicted))"
   ]
  },
  {
   "cell_type": "code",
   "execution_count": 128,
   "metadata": {},
   "outputs": [
    {
     "data": {
      "text/plain": [
       "array([[0.9010908 , 0.0989092 ],\n",
       "       [0.04235771, 0.95764229],\n",
       "       [0.20789931, 0.79210069],\n",
       "       [0.75295657, 0.24704343],\n",
       "       [0.03465074, 0.96534926],\n",
       "       [0.89657771, 0.10342229],\n",
       "       [0.70396411, 0.29603589],\n",
       "       [0.86552156, 0.13447844],\n",
       "       [0.07774077, 0.92225923],\n",
       "       [0.03424771, 0.96575229],\n",
       "       [0.60336183, 0.39663817],\n",
       "       [0.43614612, 0.56385388],\n",
       "       [0.96614112, 0.03385888],\n",
       "       [0.8735928 , 0.1264072 ],\n",
       "       [0.90542773, 0.09457227],\n",
       "       [0.9010908 , 0.0989092 ],\n",
       "       [0.67611442, 0.32388558],\n",
       "       [0.80634337, 0.19365663],\n",
       "       [0.73081201, 0.26918799],\n",
       "       [0.88193119, 0.11806881],\n",
       "       [0.73087171, 0.26912829],\n",
       "       [0.08350072, 0.91649928],\n",
       "       [0.94863355, 0.05136645],\n",
       "       [0.42146954, 0.57853046],\n",
       "       [0.88193119, 0.11806881],\n",
       "       [0.45814179, 0.54185821],\n",
       "       [0.69590141, 0.30409859],\n",
       "       [0.14545814, 0.85454186],\n",
       "       [0.56652319, 0.43347681],\n",
       "       [0.71420311, 0.28579689],\n",
       "       [0.45535066, 0.54464934],\n",
       "       [0.30478071, 0.69521929],\n",
       "       [0.88193119, 0.11806881],\n",
       "       [0.4094153 , 0.5905847 ],\n",
       "       [0.96300269, 0.03699731],\n",
       "       [0.66264061, 0.33735939],\n",
       "       [0.20337997, 0.79662003],\n",
       "       [0.39746895, 0.60253105],\n",
       "       [0.80634337, 0.19365663],\n",
       "       [0.88193119, 0.11806881],\n",
       "       [0.87086998, 0.12913002],\n",
       "       [0.44838985, 0.55161015],\n",
       "       [0.68286465, 0.31713535],\n",
       "       [0.8918834 , 0.1081166 ],\n",
       "       [0.52965558, 0.47034442],\n",
       "       [0.45814179, 0.54185821],\n",
       "       [0.20749436, 0.79250564],\n",
       "       [0.88193119, 0.11806881],\n",
       "       [0.78801486, 0.21198514],\n",
       "       [0.08828011, 0.91171989],\n",
       "       [0.06422608, 0.93577392],\n",
       "       [0.25486498, 0.74513502],\n",
       "       [0.87119517, 0.12880483],\n",
       "       [0.9017479 , 0.0982521 ],\n",
       "       [0.08372253, 0.91627747],\n",
       "       [0.1084514 , 0.8915486 ],\n",
       "       [0.45151866, 0.54848134],\n",
       "       [0.94021965, 0.05978035],\n",
       "       [0.83392883, 0.16607117],\n",
       "       [0.75295657, 0.24704343],\n",
       "       [0.65504386, 0.34495614],\n",
       "       [0.48835767, 0.51164233],\n",
       "       [0.19112712, 0.80887288],\n",
       "       [0.83392883, 0.16607117],\n",
       "       [0.15322299, 0.84677701],\n",
       "       [0.62686041, 0.37313959],\n",
       "       [0.96447918, 0.03552082],\n",
       "       [0.9010908 , 0.0989092 ],\n",
       "       [0.07774077, 0.92225923],\n",
       "       [0.02565258, 0.97434742],\n",
       "       [0.72422671, 0.27577329],\n",
       "       [0.02379967, 0.97620033],\n",
       "       [0.2270086 , 0.7729914 ],\n",
       "       [0.89657771, 0.10342229],\n",
       "       [0.58391219, 0.41608781],\n",
       "       [0.21208078, 0.78791922],\n",
       "       [0.8535412 , 0.1464588 ],\n",
       "       [0.92803431, 0.07196569],\n",
       "       [0.14872897, 0.85127103],\n",
       "       [0.46768635, 0.53231365],\n",
       "       [0.59343989, 0.40656011],\n",
       "       [0.03424771, 0.96575229],\n",
       "       [0.10593699, 0.89406301],\n",
       "       [0.30478071, 0.69521929],\n",
       "       [0.84818099, 0.15181901],\n",
       "       [0.86417801, 0.13582199],\n",
       "       [0.94806128, 0.05193872],\n",
       "       [0.68286465, 0.31713535],\n",
       "       [0.88700286, 0.11299714],\n",
       "       [0.88193119, 0.11806881],\n",
       "       [0.91359342, 0.08640658],\n",
       "       [0.3178867 , 0.6821133 ],\n",
       "       [0.87119517, 0.12880483],\n",
       "       [0.92111549, 0.07888451],\n",
       "       [0.88193119, 0.11806881],\n",
       "       [0.21201618, 0.78798382],\n",
       "       [0.88193119, 0.11806881],\n",
       "       [0.79618845, 0.20381155],\n",
       "       [0.80801238, 0.19198762],\n",
       "       [0.86417801, 0.13582199],\n",
       "       [0.88700286, 0.11299714],\n",
       "       [0.02966218, 0.97033782],\n",
       "       [0.45928185, 0.54071815],\n",
       "       [0.91743237, 0.08256763],\n",
       "       [0.93719769, 0.06280231],\n",
       "       [0.95045191, 0.04954809],\n",
       "       [0.37395096, 0.62604904],\n",
       "       [0.03112476, 0.96887524],\n",
       "       [0.79036788, 0.20963212],\n",
       "       [0.86552156, 0.13447844],\n",
       "       [0.8596383 , 0.1403617 ],\n",
       "       [0.26893911, 0.73106089],\n",
       "       [0.96285349, 0.03714651],\n",
       "       [0.10916846, 0.89083154],\n",
       "       [0.90532448, 0.09467552],\n",
       "       [0.89398395, 0.10601605],\n",
       "       [0.90935523, 0.09064477],\n",
       "       [0.74360753, 0.25639247],\n",
       "       [0.40941458, 0.59058542],\n",
       "       [0.9189779 , 0.0810221 ],\n",
       "       [0.54816719, 0.45183281],\n",
       "       [0.05981253, 0.94018747],\n",
       "       [0.96091663, 0.03908337],\n",
       "       [0.88193119, 0.11806881],\n",
       "       [0.02994716, 0.97005284],\n",
       "       [0.07014867, 0.92985133],\n",
       "       [0.42146954, 0.57853046],\n",
       "       [0.13002861, 0.86997139],\n",
       "       [0.27417292, 0.72582708],\n",
       "       [0.80366886, 0.19633114],\n",
       "       [0.16655191, 0.83344809],\n",
       "       [0.60336183, 0.39663817],\n",
       "       [0.88376021, 0.11623979],\n",
       "       [0.80634337, 0.19365663],\n",
       "       [0.36240443, 0.63759557],\n",
       "       [0.25126089, 0.74873911],\n",
       "       [0.91359342, 0.08640658],\n",
       "       [0.13488252, 0.86511748],\n",
       "       [0.36478535, 0.63521465],\n",
       "       [0.10483556, 0.89516444],\n",
       "       [0.2734709 , 0.7265291 ],\n",
       "       [0.88193119, 0.11806881],\n",
       "       [0.15977492, 0.84022508],\n",
       "       [0.49459244, 0.50540756],\n",
       "       [0.04779715, 0.95220285],\n",
       "       [0.66524727, 0.33475273],\n",
       "       [0.94791855, 0.05208145],\n",
       "       [0.07014867, 0.92985133],\n",
       "       [0.88193119, 0.11806881],\n",
       "       [0.07094314, 0.92905686],\n",
       "       [0.88193119, 0.11806881],\n",
       "       [0.22226776, 0.77773224],\n",
       "       [0.6822374 , 0.3177626 ],\n",
       "       [0.42307305, 0.57692695],\n",
       "       [0.81728115, 0.18271885],\n",
       "       [0.11662802, 0.88337198],\n",
       "       [0.45535066, 0.54464934],\n",
       "       [0.91091551, 0.08908449],\n",
       "       [0.90840327, 0.09159673],\n",
       "       [0.08635664, 0.91364336],\n",
       "       [0.92185991, 0.07814009],\n",
       "       [0.02719383, 0.97280617],\n",
       "       [0.91743237, 0.08256763],\n",
       "       [0.86417801, 0.13582199],\n",
       "       [0.74740893, 0.25259107],\n",
       "       [0.5007654 , 0.4992346 ],\n",
       "       [0.11920455, 0.88079545],\n",
       "       [0.87119517, 0.12880483],\n",
       "       [0.92803431, 0.07196569],\n",
       "       [0.20580744, 0.79419256],\n",
       "       [0.13488252, 0.86511748],\n",
       "       [0.31037841, 0.68962159],\n",
       "       [0.17162577, 0.82837423],\n",
       "       [0.84069   , 0.15931   ],\n",
       "       [0.27646632, 0.72353368],\n",
       "       [0.62164741, 0.37835259],\n",
       "       [0.73199042, 0.26800958],\n",
       "       [0.22479791, 0.77520209],\n",
       "       [0.04101338, 0.95898662],\n",
       "       [0.30127343, 0.69872657],\n",
       "       [0.91743237, 0.08256763],\n",
       "       [0.93203498, 0.06796502],\n",
       "       [0.9727438 , 0.0272562 ],\n",
       "       [0.47419664, 0.52580336],\n",
       "       [0.87119517, 0.12880483],\n",
       "       [0.9010908 , 0.0989092 ],\n",
       "       [0.88193119, 0.11806881],\n",
       "       [0.56652319, 0.43347681],\n",
       "       [0.74360753, 0.25639247],\n",
       "       [0.86637993, 0.13362007],\n",
       "       [0.93494424, 0.06505576],\n",
       "       [0.90532448, 0.09467552],\n",
       "       [0.30478071, 0.69521929],\n",
       "       [0.90083249, 0.09916751],\n",
       "       [0.89287159, 0.10712841],\n",
       "       [0.81886302, 0.18113698],\n",
       "       [0.87119517, 0.12880483],\n",
       "       [0.14250012, 0.85749988],\n",
       "       [0.54455414, 0.45544586],\n",
       "       [0.6386878 , 0.3613122 ],\n",
       "       [0.93222638, 0.06777362],\n",
       "       [0.40941458, 0.59058542],\n",
       "       [0.6822374 , 0.3177626 ],\n",
       "       [0.94556191, 0.05443809],\n",
       "       [0.84069   , 0.15931   ],\n",
       "       [0.77226001, 0.22773999],\n",
       "       [0.8918834 , 0.1081166 ],\n",
       "       [0.80634337, 0.19365663],\n",
       "       [0.02565258, 0.97434742],\n",
       "       [0.39746895, 0.60253105],\n",
       "       [0.90959357, 0.09040643],\n",
       "       [0.78066585, 0.21933415],\n",
       "       [0.86417801, 0.13582199],\n",
       "       [0.42146954, 0.57853046],\n",
       "       [0.8959186 , 0.1040814 ],\n",
       "       [0.92784073, 0.07215927],\n",
       "       [0.22762871, 0.77237129],\n",
       "       [0.82652511, 0.17347489],\n",
       "       [0.88193119, 0.11806881],\n",
       "       [0.37405327, 0.62594673],\n",
       "       [0.9010908 , 0.0989092 ],\n",
       "       [0.15977492, 0.84022508],\n",
       "       [0.11920455, 0.88079545],\n",
       "       [0.3178867 , 0.6821133 ],\n",
       "       [0.36173579, 0.63826421],\n",
       "       [0.74360753, 0.25639247],\n",
       "       [0.56652319, 0.43347681],\n",
       "       [0.21619232, 0.78380768],\n",
       "       [0.36240443, 0.63759557],\n",
       "       [0.04147534, 0.95852466],\n",
       "       [0.30478071, 0.69521929],\n",
       "       [0.86417801, 0.13582199],\n",
       "       [0.86552156, 0.13447844],\n",
       "       [0.9950007 , 0.0049993 ],\n",
       "       [0.86417801, 0.13582199],\n",
       "       [0.86417801, 0.13582199],\n",
       "       [0.52379505, 0.47620495],\n",
       "       [0.01759212, 0.98240788],\n",
       "       [0.87635018, 0.12364982],\n",
       "       [0.95913479, 0.04086521],\n",
       "       [0.36411482, 0.63588518],\n",
       "       [0.80634337, 0.19365663],\n",
       "       [0.05010775, 0.94989225],\n",
       "       [0.92185991, 0.07814009],\n",
       "       [0.78103572, 0.21896428],\n",
       "       [0.67897121, 0.32102879],\n",
       "       [0.30478071, 0.69521929],\n",
       "       [0.75295657, 0.24704343],\n",
       "       [0.73346413, 0.26653587],\n",
       "       [0.87119517, 0.12880483],\n",
       "       [0.84685126, 0.15314874],\n",
       "       [0.88193119, 0.11806881],\n",
       "       [0.79036788, 0.20963212],\n",
       "       [0.08064151, 0.91935849],\n",
       "       [0.8535412 , 0.1464588 ],\n",
       "       [0.51317219, 0.48682781],\n",
       "       [0.77344479, 0.22655521],\n",
       "       [0.22049415, 0.77950585],\n",
       "       [0.70396411, 0.29603589],\n",
       "       [0.88162941, 0.11837059],\n",
       "       [0.8349504 , 0.1650496 ],\n",
       "       [0.93736786, 0.06263214],\n",
       "       [0.88193119, 0.11806881],\n",
       "       [0.36240512, 0.63759488],\n",
       "       [0.81397708, 0.18602292],\n",
       "       [0.65145583, 0.34854417],\n",
       "       [0.45535066, 0.54464934]])"
      ]
     },
     "execution_count": 128,
     "metadata": {},
     "output_type": "execute_result"
    }
   ],
   "source": [
    "logReg.predict_proba(Xtest)"
   ]
  },
  {
   "cell_type": "code",
   "execution_count": 131,
   "metadata": {},
   "outputs": [
    {
     "data": {
      "text/plain": [
       "0.797752808988764"
      ]
     },
     "execution_count": 131,
     "metadata": {},
     "output_type": "execute_result"
    }
   ],
   "source": [
    "logReg.score(Xtest,ytest)"
   ]
  }
 ],
 "metadata": {
  "kernelspec": {
   "display_name": "Python 3",
   "language": "python",
   "name": "python3"
  },
  "language_info": {
   "codemirror_mode": {
    "name": "ipython",
    "version": 3
   },
   "file_extension": ".py",
   "mimetype": "text/x-python",
   "name": "python",
   "nbconvert_exporter": "python",
   "pygments_lexer": "ipython3",
   "version": "3.7.6"
  }
 },
 "nbformat": 4,
 "nbformat_minor": 4
}
